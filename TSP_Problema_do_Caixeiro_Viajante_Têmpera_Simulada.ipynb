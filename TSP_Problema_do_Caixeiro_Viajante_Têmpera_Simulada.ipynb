{
  "nbformat": 4,
  "nbformat_minor": 0,
  "metadata": {
    "colab": {
      "provenance": []
    },
    "kernelspec": {
      "name": "python3",
      "display_name": "Python 3"
    },
    "language_info": {
      "name": "python"
    }
  },
  "cells": [
    {
      "cell_type": "markdown",
      "source": [
        "# Problema"
      ],
      "metadata": {
        "id": "MyCMY_yJtoDN"
      }
    },
    {
      "cell_type": "markdown",
      "source": [
        "Exercício de Têmpera SimuladaProblema do Caixeiro Viajante (Traveling Salesman Problem - TSP)\n",
        "\n",
        "O problema do caixeiro viajante é um clássico problema de otimização combinatória. Imagine que um caixeiro viajante precisa visitar n cidades e retornar à cidade de origem, percorrendo a menor distância possível. O objetivo é encontrar a ordem de visitação das cidades que minimize o comprimento total do trajeto.Descrição do Problema:\n",
        "\n",
        "Entrada: Um conjunto de n cidades, representadas por coordenadas no plano cartesiano (por exemplo, (x1, y1), (x2, y2), …, (xn, yn)).\n",
        "\n",
        "Objetivo: Encontrar a permutação das cidades que minimize a soma das distâncias entre elas, considerando que o caixeiro viajante deve retornar à cidade de origem.\n",
        "\n",
        "##Formulação Matemática:\n",
        "\n",
        "Dada uma matriz de distâncias (D), onde (D[i][j]) representa a distância entre as cidades (i) e (j), o objetivo é encontrar uma permutação (\\pi) das cidades que minimize a função objetivo:\n",
        "\n",
        "[ f(\\pi) = \\sum_{i=1}^{n-1} D[\\pi(i)][\\pi(i+1)] + D[\\pi(n)][\\pi(1)] ]\n",
        "\n",
        "onde (\\pi(i)) representa a cidade visitada na posição (i) da permutação.\n"
      ],
      "metadata": {
        "id": "6P0CxTvOtrWb"
      }
    },
    {
      "cell_type": "markdown",
      "source": [
        "#Bibliotecas"
      ],
      "metadata": {
        "id": "FQitQZLxgxCa"
      }
    },
    {
      "cell_type": "code",
      "source": [
        "import math\n",
        "import numpy as np\n",
        "import pandas as pd\n",
        "import random\n",
        "import matplotlib.pyplot as plt\n",
        "\n",
        "pd.set_option('display.expand_frame_repr', False)"
      ],
      "metadata": {
        "id": "hgyPtlt-gy2S"
      },
      "execution_count": null,
      "outputs": []
    },
    {
      "cell_type": "markdown",
      "source": [
        "#Funções"
      ],
      "metadata": {
        "id": "vGTbEoKMNCwU"
      }
    },
    {
      "cell_type": "code",
      "execution_count": null,
      "metadata": {
        "id": "1BSKPamY8Lbw"
      },
      "outputs": [],
      "source": [
        "#função para gerar as cidades\n",
        "def gera_cidades(n_cidades):\n",
        "  posicoes_cidades = []\n",
        "  for _ in range(n_cidades):\n",
        "    while True:\n",
        "      x = random.randint(0, 100)\n",
        "      y = random.randint(0, 100)\n",
        "      if (x, y) not in posicoes_cidades:\n",
        "        posicoes_cidades.append((x, y))\n",
        "        break\n",
        "  return posicoes_cidades\n",
        "\n",
        "#monta a matriz de distâncias entre as cidades\n",
        "def gera_matriz_distancias(posicoes_cidades):\n",
        "  n_cidades = len(posicoes_cidades)\n",
        "  matriz_distancias = [[0] * n_cidades for _ in range(n_cidades)]\n",
        "  for i in range(n_cidades):\n",
        "    for j in range(n_cidades):\n",
        "      if i != j:\n",
        "        distancia = math.sqrt((posicoes_cidades[i][0] - posicoes_cidades[j][0])**2 + (posicoes_cidades[i][1] - posicoes_cidades[j][1])**2)\n",
        "        matriz_distancias[i][j] = distancia\n",
        "  return matriz_distancias\n",
        "\n",
        "#função pra gerar o caminho inicial aleatoriamente\n",
        "def gera_caminho_inicial(n_cidades):\n",
        "  caminho = list(range(n_cidades))\n",
        "  random.shuffle(caminho)\n",
        "  return caminho\n",
        "\n",
        "#função objetivo. Calcula a distância do caminho\n",
        "def funcao_objetivo(caminho, matriz_distancia):\n",
        "  distancia_caminho = 0\n",
        "  for i in range(len(caminho)-1):\n",
        "    distancia_caminho = distancia_caminho + matriz_distancia[caminho[i]][caminho[i+1]]\n",
        "\n",
        "  distancia_ultimo_trecho = matriz_distancia[caminho[-1]][caminho[0]]\n",
        "  distancia_caminho = distancia_caminho + distancia_ultimo_trecho\n",
        "  return distancia_caminho\n",
        "\n",
        "#função pra gerar um novo caminho com pequena variação do caminho anterior, ou seja, na vizinhança, trocando aleatoriamente a posição de duas cidades.\n",
        "#Vou adicionar um número n_swaps que dita quantas vezes essa troca acontece, pra testar varições maiores. Inicialmente será 1 para apenas uma troca.\n",
        "def gera_caminho_vizinhanca(caminho, n_swaps):\n",
        "  novo_caminho = caminho.copy()\n",
        "  for _ in range(n_swaps):\n",
        "    cidade_i, cidade_j = random.sample(range(len(novo_caminho)), 2)\n",
        "    novo_caminho[cidade_i], novo_caminho[cidade_j] = novo_caminho[cidade_j], novo_caminho[cidade_i]\n",
        "  return novo_caminho\n",
        "\n",
        "#algoritmo da têmpera simulada\n",
        "#fator de resfriamento (alpha) entre 0,88 e 0,99\n",
        "def tempera_simulada(matriz_distancias, caminho_inicial, temperatura_inicial, fator_resfriamento, numero_iteracoes, n_swaps):\n",
        "  #inicializando os parâmetros\n",
        "  caminho_atual = caminho_inicial\n",
        "  temperatura = temperatura_inicial\n",
        "\n",
        "  #lista pra armazenar os valores da função objetivo em cada iteração\n",
        "  valores_func_objetivo = []\n",
        "\n",
        "  #percorre todas as iterações\n",
        "  for _ in range(numero_iteracoes):\n",
        "    novo_caminho = gera_caminho_vizinhanca(caminho_atual, n_swaps)\n",
        "    delta_E = funcao_objetivo(novo_caminho, matriz_distancias) - funcao_objetivo(caminho_atual, matriz_distancias)\n",
        "\n",
        "    #atualiza o caminho dado o delta E ou a função de probabilidade\n",
        "    if delta_E < 0 or random.random() < math.exp(-delta_E/temperatura):\n",
        "      caminho_atual = novo_caminho\n",
        "\n",
        "    #reduz a temperatura segundo o fator de resfriamento alpha\n",
        "    temperatura*=fator_resfriamento\n",
        "    #atualiza a lista de valores de distância\n",
        "    valores_func_objetivo.append(funcao_objetivo(caminho_atual, matriz_distancias))\n",
        "  return caminho_atual, valores_func_objetivo\n",
        "\n",
        "#plota o resultado e o gráfico de convergência\n",
        "def plota_resultado(matriz_distancias, caminho_final, valores_func_objetivo):\n",
        "  #plota a matriz distância\n",
        "  print('Matriz de distâncias:')\n",
        "  matriz_np = np.array(matriz_distancias)\n",
        "  matriz_np = np.round(matriz_np, 2)\n",
        "  n = len(matriz_np)\n",
        "  nomes_colunas = [f\"Cidade {j+1}\" for j in range(n)]\n",
        "  nomes_linhas = [f\"Cidade {i+1}\" for i in range(n)]\n",
        "  df = pd.DataFrame(matriz_np, columns=nomes_colunas, index=nomes_linhas)\n",
        "  print(df)\n",
        "  #plota o caminho e a distância mínima\n",
        "  print('\\n'+'-'*100)\n",
        "  print(\"Caminho que minimiza a distância percorrida pelo Caixeiro Viajante:\")\n",
        "  resultado = ''\n",
        "  for cidade in caminho_final:\n",
        "    resultado = resultado + 'Cidade ' + str(cidade+1) + ' -> '\n",
        "  resultado = resultado + 'Cidade ' + str(caminho_final[0]+1)\n",
        "  print(resultado)\n",
        "  print(f\"\\nValor mínimo da distância percorrida pelo Caixeiro Viajante: {funcao_objetivo(caminho_final, matriz_distancias):.2f}\")\n",
        "  print('-'*100+'\\n')\n",
        "\n",
        "  #plota o gráfico\n",
        "  plt.plot(valores_func_objetivo)\n",
        "  plt.xlabel('Iterações')\n",
        "  plt.ylabel('Valor da função objetivo')\n",
        "  plt.title('Convergência do Algoritmo de Têmpera Simulada')\n",
        "  plt.show()"
      ]
    },
    {
      "cell_type": "markdown",
      "source": [
        "#Implementação"
      ],
      "metadata": {
        "id": "vnB2Fjktg5tL"
      }
    },
    {
      "cell_type": "code",
      "source": [
        "#Dados iniciais (alpha entre 0,88 e 0,99)\n",
        "temperatura_inicial = 1000.0\n",
        "fator_resfriamento = 0.99\n",
        "numero_iteracoes = 2000\n",
        "n_cidades = 10\n",
        "n_swaps = 1\n",
        "\n",
        "#gera as posições das cidades\n",
        "posicoes_cidades = gera_cidades(n_cidades)"
      ],
      "metadata": {
        "id": "kiJQ9B775pfE"
      },
      "execution_count": null,
      "outputs": []
    },
    {
      "cell_type": "code",
      "source": [
        "#gera a matriz de distâncias\n",
        "matriz_distancias = gera_matriz_distancias(posicoes_cidades)\n",
        "#começa gerando o caminho inicial aleatório\n",
        "caminho_inicial = gera_caminho_inicial(n_cidades)\n",
        "#aplica a têmpera simulada\n",
        "caminho_final, valores_func_objetivo = tempera_simulada(matriz_distancias, caminho_inicial, temperatura_inicial, fator_resfriamento, numero_iteracoes, n_swaps)\n",
        "#plota o resultado\n",
        "plota_resultado(matriz_distancias, caminho_final, valores_func_objetivo)\n",
        "#valores_func_objetivo\n"
      ],
      "metadata": {
        "colab": {
          "base_uri": "https://localhost:8080/",
          "height": 834
        },
        "id": "d_XxajQbNQrU",
        "outputId": "6f70f75c-e1e3-4725-b1f6-63599319109e"
      },
      "execution_count": null,
      "outputs": [
        {
          "output_type": "stream",
          "name": "stdout",
          "text": [
            "Matriz de distâncias:\n",
            "           Cidade 1  Cidade 2  Cidade 3  Cidade 4  Cidade 5  Cidade 6  Cidade 7  Cidade 8  Cidade 9  Cidade 10\n",
            "Cidade 1       0.00     59.51     46.07     66.19     70.26     38.21     69.46     42.19     76.66      69.87\n",
            "Cidade 2      59.51      0.00     76.69     41.62     75.00     82.01     76.03     33.84     81.84      61.52\n",
            "Cidade 3      46.07     76.69      0.00     54.08     32.65     16.55     30.87     43.29     36.69      42.52\n",
            "Cidade 4      66.19     41.62     54.08      0.00     37.64     66.73     39.29     24.35     43.46      21.47\n",
            "Cidade 5      70.26     75.00     32.65     37.64      0.00     49.19      2.24     44.05      7.21      17.03\n",
            "Cidade 6      38.21     82.01     16.55     66.73     49.19      0.00     47.42     50.99     53.14      58.05\n",
            "Cidade 7      69.46     76.03     30.87     39.29      2.24     47.42      0.00     44.60      7.28      19.00\n",
            "Cidade 8      42.19     33.84     43.29     24.35     44.05     50.99     44.60      0.00     51.22      34.79\n",
            "Cidade 9      76.66     81.84     36.69     43.46      7.21     53.14      7.28     51.22      0.00      22.14\n",
            "Cidade 10     69.87     61.52     42.52     21.47     17.03     58.05     19.00     34.79     22.14       0.00\n",
            "\n",
            "----------------------------------------------------------------------------------------------------\n",
            "Caminho que minimiza a distância percorrida pelo Caixeiro Viajante:\n",
            "Cidade 2 -> Cidade 8 -> Cidade 1 -> Cidade 6 -> Cidade 3 -> Cidade 7 -> Cidade 9 -> Cidade 5 -> Cidade 10 -> Cidade 4 -> Cidade 2\n",
            "\n",
            "Valor mínimo da distância percorrida pelo Caixeiro Viajante: 256.27\n",
            "----------------------------------------------------------------------------------------------------\n",
            "\n"
          ]
        },
        {
          "output_type": "display_data",
          "data": {
            "text/plain": [
              "<Figure size 640x480 with 1 Axes>"
            ],
            "image/png": "[encoded data removed]"
          },
          "metadata": {}
        }
      ]
    }
  ]
}